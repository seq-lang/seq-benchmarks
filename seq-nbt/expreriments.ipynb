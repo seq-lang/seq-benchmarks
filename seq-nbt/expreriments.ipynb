{
 "cells": [
  {
   "cell_type": "markdown",
   "metadata": {},
   "source": [
    "# Seq Experimental Notebook"
   ]
  },
  {
   "cell_type": "markdown",
   "metadata": {},
   "source": [
    "```bash\n",
    "# Location of tools' sources and executables\n",
    "export TOOLS=`pwd`/tools\n",
    "# Location of test datasets\n",
    "export DATA=`pwd`/data\n",
    "# Locatiion of the local Seq installation\n",
    "export SEQ=`pwd`/seq\n",
    "# Make sure to point LD_LIBRARY_PATH, PATH and SEQ_LIBRARY_PATH to your Seq installation directory\n",
    "export LD_LIBRARY_PATH=$SEQ/build:$SEQ/deps/lib:${LD_LIBRARY_PATH}\n",
    "export PATH=$SEQ/build:${PATH}\n",
    "export SEQ_LIBRARY_PATH=$SEQ/build\n",
    "# Use 1 thread\n",
    "export OMP_NUM_THREADS=1\n",
    "# Current working directory\n",
    "DIR=`pwd`\n",
    "# Make the necessary directories\n",
    "mkdir -p $DIR/runs/time\n",
    "mkdir -p $DIR/runs/stderr\n",
    "mkdir -p $DIR/runs/stdout\n",
    "mkdir -p $TOOLS/seq\n",
    "export OUT=$DIR/runs/out\n",
    "mkdir -p $OUT\n",
    "\n",
    "# Function that collects the performance metrics of each experiment.\n",
    "function tm {\n",
    "  TIME=`which time`  # use gtime on macOS\n",
    "  NAME=$1\n",
    "  if grep -qs 'Exit status: 0' $DIR/runs/time/$NAME ; then\n",
    "    echo -ne \"- $NAME already done \"\n",
    "    grep  'Exit status:' $DIR/runs/time/$NAME\n",
    "  else\n",
    "    cmd=\"$TIME -v -o $DIR/runs/time/$NAME ${@:2} >$DIR/runs/stdout/$NAME 2>$DIR/runs/stderr/$NAME\"\n",
    "    eval \"$cmd\"\n",
    "    es=$?\n",
    "    if [ $es -ne 0 ] ; then\n",
    "      echo \"- $NAME failed with $es: $cmd\"\n",
    "      cat $DIR/runs/stderr/$NAME\n",
    "    else\n",
    "      echo \"- $NAME completed\"\n",
    "    fi\n",
    "  fi\n",
    "}\n",
    "```"
   ]
  },
  {
   "cell_type": "markdown",
   "metadata": {},
   "source": [
    "## CORA\n",
    "\n",
    "We have used [CORA 1.1.5b](https://github.com/denizy/cora/tree/6a53c7b9b25eb8c33d3de92f00481310c16fdd5c) to evaluate CORA performance.\n",
    "\n",
    "CORA first needs to be run with default parameters to generate `__temporary_CORA_files` directory.\n",
    "You can kill CORA once this directory is generated and proceed by running the commands below:\n",
    "\n",
    "```bash\n",
    "cd $OUT/cora\n",
    "# Generate inexact homology table\n",
    "tm cora-inexact $TOOLS/cora/homTable_setup $DATA/genome.fa 64 __temporary_CORA_files/__TEMP__Aux_Physical_Splits_File cora_hom_exact_k64 cora_hom_inexact_k64 __temporary_CORA_files/__TEMP__Aux_Parallel_Splits_File EXACT 1 FULL\n",
    "# Generate exact homology table (needs 2 steps)\n",
    "tm cora-exact-1 $TOOLS/cora/homTable_setup $DATA/genome.fa 64 __temporary_CORA_files/__TEMP__Aux_Physical_Splits_File cora_hom_exact_k64 cora_hom_inexact_k64 __temporary_CORA_files/__TEMP__Aux_Parallel_Splits_File EXACT 1 ONLY_EXACT_COMPACT\n",
    "tm cora-exact-2 $TOOLS/cora/homTable_setup $DATA/genome.fa 64 __temporary_CORA_files/__TEMP__Aux_Physical_Splits_File cora_hom_exact_k64 cora_hom_inexact_k64 __temporary_CORA_files/__TEMP__Aux_Parallel_Splits_File BOTH  1 ONLY_CONSTRUCT\n",
    "cd ..\n",
    "```\n",
    "\n",
    "For Seq, we used:\n",
    "```bash\n",
    "# Build\n",
    "tm seq-build-cora-exact   seqc build -release -o $TOOLS/seq/cora-exact   $TOOLS/seq/cora/hom_exact.seq\n",
    "tm seq-build-cora-inexact seqc build -release -o $TOOLS/seq/cora-inexact $TOOLS/seq/cora/hom_inexact.seq\n",
    "\n",
    "# Use 24 threads\n",
    "export OMP_NUM_THREADS=24\n",
    "# Generate exact homology table\n",
    "tm seq-cora-exact   $TOOLS/seq/cora-exact   $DATA/genome.fa   $OUT/seq-cora-k64\n",
    "# Generate inexact homology table\n",
    "tm seq-cora-inexact $TOOLS/seq/cora-inexact $DATA/genome.fa 1 $OUT/seq-cora-k64\n",
    "export OMP_NUM_THREADS=1\n",
    "```"
   ]
  },
  {
   "cell_type": "markdown",
   "metadata": {},
   "source": [
    "## BWA-MEM\n",
    "\n"
   ]
  },
  {
   "cell_type": "code",
   "execution_count": null,
   "metadata": {},
   "outputs": [],
   "source": []
  }
 ],
 "metadata": {
  "kernelspec": {
   "display_name": "",
   "name": ""
  },
  "language_info": {
   "name": ""
  }
 },
 "nbformat": 4,
 "nbformat_minor": 4
}
